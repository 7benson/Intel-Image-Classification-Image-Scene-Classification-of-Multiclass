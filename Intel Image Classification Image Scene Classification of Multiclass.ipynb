{
 "cells": [
  {
   "cell_type": "code",
   "execution_count": 1,
   "metadata": {},
   "outputs": [],
   "source": [
    "import numpy as np\n",
    "import pandas as pd\n",
    "from PIL import Image\n",
    "from numpy import asarray\n",
    "import matplotlib.pyplot as plt\n",
    "import cv2\n",
    "import glob\n",
    "import tensorflow as tf\n",
    "from tensorflow.keras.models import Sequential\n",
    "from tensorflow.keras.layers import BatchNormalization, Dense, Conv2D, Dropout,Flatten, MaxPooling2D\n",
    "import glob\n",
    "from keras.preprocessing import image\n",
    "from keras.applications.vgg16 import preprocess_input\n",
    "from keras.preprocessing.image import ImageDataGenerator\n",
    "import os,shutil\n",
    "from keras import models,layers,optimizers\n",
    "from keras.layers import Dense, Activation, Flatten, Dropout, BatchNormalization\n",
    "from keras.layers import Conv2D, MaxPooling2D\n",
    "from keras.applications.resnet50 import ResNet50"
   ]
  },
  {
   "cell_type": "code",
   "execution_count": 2,
   "metadata": {},
   "outputs": [],
   "source": [
    "x_train = []\n",
    "y_train =[]\n",
    "x_test=[]\n",
    "y_test=[]\n",
    "x_predict =[]\n",
    "y_predict =[]"
   ]
  },
  {
   "cell_type": "code",
   "execution_count": 3,
   "metadata": {},
   "outputs": [],
   "source": [
    "def createData(files,y,x_set,y_set):\n",
    "    resolution=150\n",
    "    for my_file in files:\n",
    "        image = Image.open(my_file).convert('RGB')\n",
    "        image = np.array(image)\n",
    "        if image is None or image.shape != (resolution, resolution,3):\n",
    "            print(image.shape)\n",
    "        else:\n",
    "            x_set.append(image)\n",
    "            y_set.append(y)\n",
    "    print('X_data shape:', np.array(x_set).shape)"
   ]
  },
  {
   "cell_type": "code",
   "execution_count": 4,
   "metadata": {},
   "outputs": [
    {
     "name": "stdout",
     "output_type": "stream",
     "text": [
      "(124, 150, 3)\n",
      "X_data shape: (2190, 150, 150, 3)\n",
      "(113, 150, 3)\n",
      "(108, 150, 3)\n",
      "(133, 150, 3)\n",
      "(115, 150, 3)\n",
      "(135, 150, 3)\n",
      "(136, 150, 3)\n",
      "(108, 150, 3)\n",
      "(113, 150, 3)\n",
      "X_data shape: (4453, 150, 150, 3)\n",
      "(110, 150, 3)\n",
      "(105, 150, 3)\n",
      "(111, 150, 3)\n",
      "(120, 150, 3)\n",
      "(149, 150, 3)\n",
      "(143, 150, 3)\n",
      "(146, 150, 3)\n",
      "(134, 150, 3)\n",
      "(142, 150, 3)\n",
      "(123, 150, 3)\n",
      "(119, 150, 3)\n",
      "(102, 150, 3)\n",
      "(76, 150, 3)\n",
      "(97, 150, 3)\n",
      "(111, 150, 3)\n",
      "(111, 150, 3)\n",
      "(135, 150, 3)\n",
      "X_data shape: (6840, 150, 150, 3)\n",
      "(134, 150, 3)\n",
      "(135, 150, 3)\n",
      "(123, 150, 3)\n",
      "(113, 150, 3)\n",
      "(142, 150, 3)\n",
      "(144, 150, 3)\n",
      "(103, 150, 3)\n",
      "(136, 150, 3)\n",
      "(144, 150, 3)\n",
      "(100, 150, 3)\n",
      "(143, 150, 3)\n",
      "(141, 150, 3)\n",
      "(146, 150, 3)\n",
      "(145, 150, 3)\n",
      "(81, 150, 3)\n",
      "(147, 150, 3)\n",
      "(131, 150, 3)\n",
      "X_data shape: (9335, 150, 150, 3)\n",
      "(113, 150, 3)\n",
      "(113, 150, 3)\n",
      "(140, 150, 3)\n",
      "(113, 150, 3)\n",
      "X_data shape: (11605, 150, 150, 3)\n",
      "(113, 150, 3)\n",
      "X_data shape: (13986, 150, 150, 3)\n"
     ]
    }
   ],
   "source": [
    "#Loading Trainig Data\n",
    "#Buildings - 0\n",
    "#Forest - 1\n",
    "#Glacier - 2\n",
    "#Mountain -3\n",
    "#Sea - 4\n",
    "#Street - 5\n",
    "createData(glob.glob (\"/Users/jayan/OneDrive/Desktop/Models/seg_train/seg_train/buildings/*.jpg\"),0,x_train,y_train)\n",
    "createData(glob.glob (\"/Users/jayan/OneDrive/Desktop/Models/seg_train/seg_train/forest/*.jpg\"),1,x_train,y_train)\n",
    "createData(glob.glob (\"/Users/jayan/OneDrive/Desktop/Models/seg_train/seg_train/glacier/*.jpg\"),2,x_train,y_train)\n",
    "createData(glob.glob (\"/Users/jayan/OneDrive/Desktop/Models/seg_train/seg_train/mountain/*.jpg\"),3,x_train,y_train)\n",
    "createData(glob.glob (\"/Users/jayan/OneDrive/Desktop/Models/seg_train/seg_train/sea/*.jpg\"),4,x_train,y_train)\n",
    "createData(glob.glob (\"/Users/jayan/OneDrive/Desktop/Models/seg_train/seg_train/street/*.jpg\"),5,x_train,y_train)"
   ]
  },
  {
   "cell_type": "code",
   "execution_count": 5,
   "metadata": {},
   "outputs": [
    {
     "name": "stdout",
     "output_type": "stream",
     "text": [
      "x_train Shape   (13986, 150, 150, 3)\n",
      "x_train Item Shape   (150, 150, 3)\n"
     ]
    }
   ],
   "source": [
    "print(\"x_train Shape  \" ,np.array(x_train).shape)\n",
    "print(\"x_train Item Shape  \",np.array(x_train[-1]).shape)"
   ]
  },
  {
   "cell_type": "code",
   "execution_count": 6,
   "metadata": {},
   "outputs": [
    {
     "name": "stdout",
     "output_type": "stream",
     "text": [
      "X_data shape: (437, 150, 150, 3)\n",
      "(141, 150, 3)\n",
      "X_data shape: (910, 150, 150, 3)\n",
      "(110, 150, 3)\n",
      "(76, 150, 3)\n",
      "(149, 150, 3)\n",
      "(72, 150, 3)\n",
      "X_data shape: (1459, 150, 150, 3)\n",
      "(131, 150, 3)\n",
      "(81, 150, 3)\n",
      "X_data shape: (1982, 150, 150, 3)\n",
      "X_data shape: (2492, 150, 150, 3)\n",
      "X_data shape: (2993, 150, 150, 3)\n"
     ]
    }
   ],
   "source": [
    "#Loading Testing Data\n",
    "createData(glob.glob (\"/Users/jayan/OneDrive/Desktop/Models/seg_test/seg_test/buildings/*.jpg\"),0,x_test,y_test)\n",
    "createData(glob.glob (\"/Users/jayan/OneDrive/Desktop/Models/seg_test/seg_test/forest/*.jpg\"),1,x_test,y_test)\n",
    "createData(glob.glob (\"/Users/jayan/OneDrive/Desktop/Models/seg_test/seg_test/glacier/*.jpg\"),2,x_test,y_test)\n",
    "createData(glob.glob (\"/Users/jayan/OneDrive/Desktop/Models/seg_test/seg_test/mountain/*.jpg\"),3,x_test,y_test)\n",
    "createData(glob.glob (\"/Users/jayan/OneDrive/Desktop/Models/seg_test/seg_test/sea/*.jpg\"),4,x_test,y_test)\n",
    "createData(glob.glob (\"/Users/jayan/OneDrive/Desktop/Models/seg_test/seg_test/street/*.jpg\"),5,x_test,y_test)"
   ]
  },
  {
   "cell_type": "code",
   "execution_count": 7,
   "metadata": {},
   "outputs": [
    {
     "name": "stdout",
     "output_type": "stream",
     "text": [
      "(133, 150, 3)\n",
      "(139, 150, 3)\n",
      "(108, 150, 3)\n",
      "(124, 150, 3)\n",
      "(131, 150, 3)\n",
      "(144, 150, 3)\n",
      "(149, 150, 3)\n",
      "(143, 150, 3)\n",
      "(129, 150, 3)\n",
      "(100, 150, 3)\n",
      "(112, 150, 3)\n",
      "(126, 150, 3)\n",
      "(374, 500, 3)\n",
      "X_data shape: (7288, 150, 150, 3)\n"
     ]
    }
   ],
   "source": [
    "#Loading Predicting data set\n",
    "createData(glob.glob (\"/Users/jayan/OneDrive/Desktop/Models/seg_pred/seg_pred/*.jpg\"),0,x_predict,y_predict)"
   ]
  },
  {
   "cell_type": "code",
   "execution_count": 8,
   "metadata": {},
   "outputs": [
    {
     "name": "stdout",
     "output_type": "stream",
     "text": [
      "(2993, 150, 150, 3)\n",
      "(150, 150, 3)\n",
      "(2993,)\n"
     ]
    }
   ],
   "source": [
    "print(np.array(x_test).shape)\n",
    "print(np.array(x_test[-1]).shape)\n",
    "print(np.array(y_test).shape)"
   ]
  },
  {
   "cell_type": "code",
   "execution_count": 9,
   "metadata": {},
   "outputs": [
    {
     "name": "stdout",
     "output_type": "stream",
     "text": [
      "(7288, 150, 150, 3)\n",
      "(13986, 150, 150, 3)\n",
      "(2993, 150, 150, 3)\n"
     ]
    }
   ],
   "source": [
    "#Changing them to a numpy array\n",
    "x_train = np.array(x_train)\n",
    "x_test = np.array(x_test)\n",
    "y_train = np.array(y_train)\n",
    "y_test = np.array(y_test)\n",
    "x_train =x_train.astype('float32')\n",
    "x_test=x_test.astype('float32')\n",
    "x_train /= 255\n",
    "x_test/=255\n",
    "x_predict = np.array(x_predict)\n",
    "y_predict = np.array(y_predict)\n",
    "x_predict=x_predict.astype('float32')\n",
    "x_predict /= 255\n",
    "print(x_predict.shape)\n",
    "print(x_train.shape)\n",
    "print(x_test.shape)"
   ]
  },
  {
   "cell_type": "code",
   "execution_count": 10,
   "metadata": {
    "scrolled": true
   },
   "outputs": [
    {
     "name": "stdout",
     "output_type": "stream",
     "text": [
      "Epoch 1/20\n",
      "  2/219 [..............................] - ETA: 34s - loss: 1.7917 - accuracy: 0.1641WARNING:tensorflow:Callbacks method `on_train_batch_end` is slow compared to the batch time (batch time: 0.1257s vs `on_train_batch_end` time: 0.1915s). Check your callbacks.\n",
      "219/219 [==============================] - 76s 347ms/step - loss: 1.0479 - accuracy: 0.5892 - val_accuracy: 0.1627 - val_loss: 3.2960\n",
      "Epoch 2/20\n",
      "219/219 [==============================] - 74s 338ms/step - loss: 0.2900 - accuracy: 0.9136 - val_accuracy: 0.2446 - val_loss: 4.9468\n",
      "Epoch 3/20\n",
      "219/219 [==============================] - 74s 338ms/step - loss: 0.1728 - accuracy: 0.9434 - val_accuracy: 0.6642 - val_loss: 2.1553\n",
      "Epoch 4/20\n",
      "219/219 [==============================] - 74s 336ms/step - loss: 0.1159 - accuracy: 0.9630 - val_accuracy: 0.7882 - val_loss: 2.3400\n",
      "Epoch 5/20\n",
      "219/219 [==============================] - 73s 335ms/step - loss: 0.0822 - accuracy: 0.9741 - val_accuracy: 0.9191 - val_loss: 0.6453\n",
      "Epoch 6/20\n",
      "219/219 [==============================] - 73s 335ms/step - loss: 0.0685 - accuracy: 0.9789 - val_accuracy: 0.8834 - val_loss: 1.7123\n",
      "Epoch 7/20\n",
      "219/219 [==============================] - 73s 334ms/step - loss: 0.0558 - accuracy: 0.9846 - val_accuracy: 0.9145 - val_loss: 1.1632\n",
      "Epoch 8/20\n",
      "219/219 [==============================] - 73s 335ms/step - loss: 0.0439 - accuracy: 0.9873 - val_accuracy: 0.9115 - val_loss: 1.1233\n",
      "Epoch 9/20\n",
      "219/219 [==============================] - 73s 335ms/step - loss: 0.0502 - accuracy: 0.9871 - val_accuracy: 0.9051 - val_loss: 1.0624\n",
      "Epoch 10/20\n",
      "219/219 [==============================] - 73s 335ms/step - loss: 0.0421 - accuracy: 0.9876 - val_accuracy: 0.9205 - val_loss: 0.7007\n",
      "Epoch 11/20\n",
      "219/219 [==============================] - 73s 335ms/step - loss: 0.0408 - accuracy: 0.9910 - val_accuracy: 0.9021 - val_loss: 0.7794\n",
      "Epoch 12/20\n",
      "219/219 [==============================] - 73s 335ms/step - loss: 0.0429 - accuracy: 0.9896 - val_accuracy: 0.8901 - val_loss: 0.9534\n",
      "Epoch 13/20\n",
      "219/219 [==============================] - 73s 335ms/step - loss: 0.0330 - accuracy: 0.9914 - val_accuracy: 0.8811 - val_loss: 1.1077\n",
      "Epoch 14/20\n",
      "219/219 [==============================] - 73s 335ms/step - loss: 0.0274 - accuracy: 0.9926 - val_accuracy: 0.9095 - val_loss: 0.9426\n",
      "Epoch 15/20\n",
      "219/219 [==============================] - 73s 335ms/step - loss: 0.0298 - accuracy: 0.9935 - val_accuracy: 0.8406 - val_loss: 3.3543\n",
      "Epoch 16/20\n",
      "219/219 [==============================] - 73s 335ms/step - loss: 0.0280 - accuracy: 0.9930 - val_accuracy: 0.9168 - val_loss: 0.7879\n",
      "Epoch 17/20\n",
      "219/219 [==============================] - 73s 335ms/step - loss: 0.0311 - accuracy: 0.9920 - val_accuracy: 0.9004 - val_loss: 1.0134\n",
      "Epoch 18/20\n",
      "219/219 [==============================] - 74s 337ms/step - loss: 0.0244 - accuracy: 0.9942 - val_accuracy: 0.8988 - val_loss: 1.5428\n",
      "Epoch 19/20\n",
      "219/219 [==============================] - 73s 334ms/step - loss: 0.0277 - accuracy: 0.9930 - val_accuracy: 0.8914 - val_loss: 1.9488\n",
      "Epoch 20/20\n",
      "219/219 [==============================] - 73s 334ms/step - loss: 0.0298 - accuracy: 0.9924 - val_accuracy: 0.9135 - val_loss: 0.7685\n",
      "94/94 [==============================] - 5s 50ms/step - loss: 0.7685 - accuracy: 0.9135\n",
      "Model: \"sequential\"\n",
      "_________________________________________________________________\n",
      "Layer (type)                 Output Shape              Param #   \n",
      "=================================================================\n",
      "resnet50 (Functional)        (None, 5, 5, 2048)        23587712  \n",
      "_________________________________________________________________\n",
      "conv2d (Conv2D)              (None, 2, 2, 32)          589856    \n",
      "_________________________________________________________________\n",
      "conv2d_1 (Conv2D)            (None, 1, 1, 32)          9248      \n",
      "_________________________________________________________________\n",
      "max_pooling2d (MaxPooling2D) (None, 1, 1, 32)          0         \n",
      "_________________________________________________________________\n",
      "conv2d_2 (Conv2D)            (None, 1, 1, 64)          18496     \n",
      "_________________________________________________________________\n",
      "conv2d_3 (Conv2D)            (None, 1, 1, 64)          36928     \n",
      "_________________________________________________________________\n",
      "max_pooling2d_1 (MaxPooling2 (None, 1, 1, 64)          0         \n",
      "_________________________________________________________________\n",
      "conv2d_4 (Conv2D)            (None, 1, 1, 128)         73856     \n",
      "_________________________________________________________________\n",
      "conv2d_5 (Conv2D)            (None, 1, 1, 128)         147584    \n",
      "_________________________________________________________________\n",
      "max_pooling2d_2 (MaxPooling2 (None, 1, 1, 128)         0         \n",
      "_________________________________________________________________\n",
      "conv2d_6 (Conv2D)            (None, 1, 1, 256)         295168    \n",
      "_________________________________________________________________\n",
      "conv2d_7 (Conv2D)            (None, 1, 1, 256)         590080    \n",
      "_________________________________________________________________\n",
      "max_pooling2d_3 (MaxPooling2 (None, 1, 1, 256)         0         \n",
      "_________________________________________________________________\n",
      "flatten (Flatten)            (None, 256)               0         \n",
      "_________________________________________________________________\n",
      "dense (Dense)                (None, 1024)              263168    \n",
      "_________________________________________________________________\n",
      "dropout (Dropout)            (None, 1024)              0         \n",
      "_________________________________________________________________\n",
      "dense_1 (Dense)              (None, 6)                 6150      \n",
      "=================================================================\n",
      "Total params: 25,618,246\n",
      "Trainable params: 25,565,126\n",
      "Non-trainable params: 53,120\n",
      "_________________________________________________________________\n"
     ]
    }
   ],
   "source": [
    "input_shape=(150,150,3)\n",
    "res_conv = ResNet50(include_top=False,\n",
    "                    weights='imagenet',\n",
    "                    input_tensor=None,\n",
    "                    input_shape=(150,150,3),\n",
    "                    pooling=None,classes=1000)\n",
    "model =Sequential()\n",
    "model.add(res_conv)\n",
    "\n",
    "model.add(Conv2D(32, 3, 3, padding='same', input_shape=input_shape, activation='relu'))\n",
    "model.add(Conv2D(32, 3, 3, padding='same', activation='relu'))\n",
    "model.add(MaxPooling2D(pool_size=(2, 2), padding='same'))\n",
    "\n",
    "model.add(Conv2D(64, 3, 3, padding='same', activation='relu'))\n",
    "model.add(Conv2D(64, 3, 3, padding='same', activation='relu'))\n",
    "model.add(MaxPooling2D(pool_size=(2, 2), padding='same'))\n",
    "\n",
    "model.add(Conv2D(128, 3, 3, padding='same', activation='relu'))\n",
    "model.add(Conv2D(128, 3, 3, padding='same', activation='relu'))\n",
    "model.add(MaxPooling2D(pool_size=(1, 1)))\n",
    "\n",
    "model.add(Conv2D(256, 3, 3, padding='same', activation='relu'))\n",
    "model.add(Conv2D(256, 3, 3, padding='same', activation='relu'))\n",
    "model.add(MaxPooling2D(pool_size=(1, 1)))\n",
    "\n",
    "model.add(layers.Flatten())\n",
    "model.add(layers.Dense(1024, activation='relu'))\n",
    "model.add(layers.Dropout(0.5))\n",
    "model.add(layers.Dense(6, activation='softmax'))\n",
    "\n",
    "model.compile(optimizer=optimizers.RMSprop(lr=1e-4), \n",
    "              loss='sparse_categorical_crossentropy', \n",
    "              metrics=['accuracy'])\n",
    "model.fit(x=x_train,y=y_train,batch_size=64,validation_data=(x_test, y_test), epochs=20)\n",
    "\n",
    "model.evaluate(x_test, y_test)\n",
    "\n",
    "# Show the model architecture\n",
    "model.summary()\n",
    "model.save('INTEL.h5')\n",
    "\n",
    "predictions= model.predict(x_predict)"
   ]
  },
  {
   "cell_type": "code",
   "execution_count": 11,
   "metadata": {},
   "outputs": [
    {
     "name": "stdout",
     "output_type": "stream",
     "text": [
      "4\n"
     ]
    },
    {
     "data": {
      "image/png": "[encoded data removed]",
      "text/plain": [
       "<Figure size 432x288 with 1 Axes>"
      ]
     },
     "metadata": {
      "needs_background": "light"
     },
     "output_type": "display_data"
    }
   ],
   "source": [
    "image_index = 1500\n",
    "plt.imshow(x_predict[image_index].reshape(150, 150,3))\n",
    "pred = model.predict(x_predict[image_index].reshape(1,150, 150,3))\n",
    "print(pred.argmax())"
   ]
  }
 ],
 "metadata": {
  "kernelspec": {
   "display_name": "Python 3",
   "language": "python",
   "name": "python3"
  },
  "language_info": {
   "codemirror_mode": {
    "name": "ipython",
    "version": 3
   },
   "file_extension": ".py",
   "mimetype": "text/x-python",
   "name": "python",
   "nbconvert_exporter": "python",
   "pygments_lexer": "ipython3",
   "version": "3.5.6"
  }
 },
 "nbformat": 4,
 "nbformat_minor": 4
}
